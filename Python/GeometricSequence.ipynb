{
 "cells": [
  {
   "cell_type": "code",
   "execution_count": null,
   "id": "71c3d6ec",
   "metadata": {},
   "outputs": [],
   "source": [
    "class GeometricSequence:\n",
    "        def __init__(self):\n",
    "                \"\"\"Khởi tạo đối tượng với giá trị mặc đinh.\"\"\" \n",
    "                self.n=None # số phần tử\n",
    "                self.a=None # số đầu tiên\n",
    "                self.q=None # công bội\n",
    "                self.sequence = []\n",
    "        def gcd(self, x,y):\n",
    "                \"\"\"Tự viết hàm tính ước số chung lớn nhất (USCLN)  bằng thuật toán Euclid\"\"\"\n",
    "                while y!=0:\n",
    "                        x,y=y,x%y \n",
    "                return x\n",
    "        \n",
    "        def input_numbers(self):\n",
    "                \"\"\"Nhập n và a, kiểm tra điều kiện hợp lệ\"\"\"\n",
    "                while True:\n",
    "                        try:\n",
    "                                raw_input=input(\"Nhập hai số nguyên dương n,a (cách nhau bởi dấu phẩy): \")\n",
    "                                self.n, self.a = map(int, raw_input.split(','))\n",
    "                                \n",
    "                                # kiểm tra điều kiện:\n",
    "                                if self.n > 0 and self.a > 0 and self.gcp(self.n, self.a) % 5 == 0:\n",
    "                                        break\n",
    "                                else:\n",
    "                                        print(\"Vui lòng nhập đúng định dạng số nguyên, cách nhau bởi dấu phẩy.\")\n",
    "                        except ValueError:\n",
    "                                print(\"Vui lòng nhập đúng định dạng số nguyên, cách nhau bởi dấu phẩy.\")\n",
    "                                \n",
    "        def input_ratio(self):\n",
    "                \"\"\"Nhập công bội q\"\"\"\n",
    "                self.q = int(input(\"Nhập giá trị của q:\"))\n",
    "        \n",
    "        def generate_sequence(self):\n",
    "                \"\"\"Tạo dãy cấp số nhân bằng List Comprehension\"\"\"\n",
    "                self.sequence = [self.a*(self.q**i) for i in range(self.n)]\n",
    "                \n",
    "        \n",
    "        \n"
   ]
  },
  {
   "cell_type": "code",
   "execution_count": null,
   "id": "9d09edd1",
   "metadata": {},
   "outputs": [],
   "source": []
  }
 ],
 "metadata": {
  "kernelspec": {
   "display_name": ".env",
   "language": "python",
   "name": "python3"
  },
  "language_info": {
   "codemirror_mode": {
    "name": "ipython",
    "version": 3
   },
   "file_extension": ".py",
   "mimetype": "text/x-python",
   "name": "python",
   "nbconvert_exporter": "python",
   "pygments_lexer": "ipython3",
   "version": "3.11.13"
  }
 },
 "nbformat": 4,
 "nbformat_minor": 5
}
