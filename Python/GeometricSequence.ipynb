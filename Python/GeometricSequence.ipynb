{
 "cells": [
  {
   "cell_type": "code",
   "execution_count": null,
   "id": "71c3d6ec",
   "metadata": {},
   "outputs": [
    {
     "name": "stdout",
     "output_type": "stream",
     "text": [
      "✅ Dãy cấp số nhân là: [10, 20, 40, 80, 160]\n"
     ]
    }
   ],
   "source": [
    "class GeometricSequence:\n",
    "    def __init__(self):\n",
    "        \"\"\"Khởi tạo đối tượng với giá trị mặc định.\"\"\"\n",
    "        self.n = None\n",
    "        self.a = None\n",
    "        self.q = None\n",
    "        self.sequence = []\n",
    "\n",
    "    def gcd(self, x, y):\n",
    "        \"\"\"Ước số chung lớn nhất bằng thuật toán Euclid (an toàn với số âm).\"\"\"\n",
    "        x, y = abs(x), abs(y)\n",
    "        while y != 0:\n",
    "            x, y = y, x % y\n",
    "        return x\n",
    "\n",
    "    def input_numbers(self):\n",
    "        \"\"\"Nhập n và a, kiểm tra điều kiện hợp lệ. Thông báo lý do nếu không hợp lệ.\"\"\"\n",
    "        while True:\n",
    "            raw = input(\"Nhập hai số nguyên dương n, a (cách nhau bởi dấu phẩy): \").strip()\n",
    "            parts = [p.strip() for p in raw.split(',')]\n",
    "            if len(parts) != 2:\n",
    "                print(\" Sai định dạng. Nhập 2 số, cách nhau bởi dấu phẩy (ví dụ: 20,15).\")\n",
    "                continue\n",
    "            try:\n",
    "                self.n = int(parts[0])\n",
    "                self.a = int(parts[1])\n",
    "            except ValueError:\n",
    "                print(\" Cả n và a phải là số nguyên (ví dụ: 20,15).\")\n",
    "                continue\n",
    "\n",
    "            if self.n <= 0 or self.a <= 0:\n",
    "                print(\" n và a phải là số nguyên dương (> 0).\")\n",
    "                continue\n",
    "\n",
    "            g = self.gcd(self.n, self.a)\n",
    "            if g % 5 != 0:\n",
    "                print(f\" USCLN(n, a) = {g} — không phải bội số của 5. Vui lòng nhập lại.\")\n",
    "                continue\n",
    "            break\n",
    "\n",
    "    def input_ratio(self):\n",
    "        \"\"\"Nhập công bội q (cố gắng parse int, nếu không thì float).\"\"\"\n",
    "        raw = input(\"Nhập giá trị của q: \").strip()\n",
    "        try:\n",
    "            self.q = int(raw)\n",
    "        except ValueError:\n",
    "            try:\n",
    "                self.q = float(raw)\n",
    "            except ValueError:\n",
    "                self.q = raw\n",
    "\n",
    "    def generate_sequence(self):\n",
    "        \"\"\"Tạo dãy cấp số nhân bằng list comprehension.\"\"\"\n",
    "        self.sequence = [self.a * (self.q ** i) for i in range(self.n)]\n",
    "\n",
    "    def display(self):\n",
    "        print(\" Dãy cấp số nhân là:\", self.sequence)\n",
    "\n",
    "    def run(self):\n",
    "        self.input_numbers()\n",
    "        self.input_ratio()\n",
    "        self.generate_sequence()\n",
    "        self.display()\n",
    "\n",
    "\n",
    "if __name__ == \"__main__\":\n",
    "    app = GeometricSequence()\n",
    "    app.run()\n"
   ]
  },
  {
   "cell_type": "code",
   "execution_count": null,
   "id": "9d09edd1",
   "metadata": {},
   "outputs": [],
   "source": []
  }
 ],
 "metadata": {
  "kernelspec": {
   "display_name": ".venv",
   "language": "python",
   "name": "python3"
  },
  "language_info": {
   "codemirror_mode": {
    "name": "ipython",
    "version": 3
   },
   "file_extension": ".py",
   "mimetype": "text/x-python",
   "name": "python",
   "nbconvert_exporter": "python",
   "pygments_lexer": "ipython3",
   "version": "3.10.16"
  }
 },
 "nbformat": 4,
 "nbformat_minor": 5
}
