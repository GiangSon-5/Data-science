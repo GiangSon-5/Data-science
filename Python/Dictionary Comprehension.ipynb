{
 "cells": [
  {
   "cell_type": "code",
   "execution_count": null,
   "id": "700efa53",
   "metadata": {},
   "outputs": [
    {
     "name": "stdout",
     "output_type": "stream",
     "text": [
      "Số 54522512 gồm:\n",
      "Số 1 xuất hiện 1 lần\n",
      "Số 2 xuất hiện 3 lần\n",
      "Số 4 xuất hiện 1 lần\n",
      "Số 5 xuất hiện 3 lần\n",
      "Số 5, 2 xuất hiện nhiều lần nhất (3 lần)\n"
     ]
    }
   ],
   "source": [
    "class DigitCounter:\n",
    "    def __init__(self):\n",
    "        \"\"\"Khởi tạo đối tượng với các giá trị mặc định.\"\"\"\n",
    "        self.raw_number = None\n",
    "        self.cleaned_number = None\n",
    "        self.digit_count = {}\n",
    "        self.most_frequent_digits = []\n",
    "        self.max_count = 0\n",
    "\n",
    "    def input_number(self):\n",
    "        \"\"\"Nhập số từ người dùng và lưu vào self.raw_number, self.cleaned_number.\"\"\"\n",
    "        self.raw_number = input(\"Nhập số n: \").strip()\n",
    "        self.cleaned_number = self._clean_number(self.raw_number)\n",
    "\n",
    "    def _clean_number(self, s):\n",
    "        \"\"\"Loại bỏ các ký tự không phải số (dấu '-' hoặc '.').\"\"\"\n",
    "        return s.replace('-', '').replace('.', '')\n",
    "\n",
    "    def count_digits(self):\n",
    "        \"\"\"Đếm số lần xuất hiện của từng ký số bằng dict comprehension.\"\"\"\n",
    "        self.digit_count = {digit: self.cleaned_number.count(digit) for digit in set(self.cleaned_number)}\n",
    "\n",
    "    def find_most_frequent(self):\n",
    "        \"\"\"Tìm các chữ số xuất hiện nhiều nhất.\"\"\"\n",
    "        if not self.digit_count:\n",
    "            self.most_frequent_digits = []\n",
    "            self.max_count = 0\n",
    "            return\n",
    "        self.max_count = max(self.digit_count.values())\n",
    "        self.most_frequent_digits = [\n",
    "            digit for digit, count in self.digit_count.items() if count == self.max_count\n",
    "        ]\n",
    "\n",
    "    def display(self):\n",
    "        \"\"\"In kết quả ra màn hình.\"\"\"\n",
    "        print(f\"Số {self.cleaned_number} gồm:\")\n",
    "        for digit in sorted(self.digit_count.keys()):\n",
    "            print(f\"Số {digit} xuất hiện {self.digit_count[digit]} lần\")\n",
    "\n",
    "        if not self.most_frequent_digits:\n",
    "            print(\"Không có chữ số nào.\")\n",
    "        elif len(self.most_frequent_digits) == 1:\n",
    "            print(f\"Số {self.most_frequent_digits[0]} xuất hiện nhiều lần nhất ({self.max_count} lần)\")\n",
    "        else:\n",
    "            print(f\"Số {', '.join(self.most_frequent_digits)} xuất hiện nhiều lần nhất ({self.max_count} lần)\")\n",
    "\n",
    "    def run(self):\n",
    "        \"\"\"Hàm điều khiển chính.\"\"\"\n",
    "        self.input_number()\n",
    "        self.count_digits()\n",
    "        self.find_most_frequent()\n",
    "        self.display()\n",
    "\n",
    "\n",
    "# ---------------------------\n",
    "# 🚀 Thực thi chương trình\n",
    "# ---------------------------\n",
    "if __name__ == \"__main__\":\n",
    "    counter = DigitCounter()\n",
    "    counter.run()\n"
   ]
  }
 ],
 "metadata": {
  "kernelspec": {
   "display_name": "myenv",
   "language": "python",
   "name": "python3"
  },
  "language_info": {
   "codemirror_mode": {
    "name": "ipython",
    "version": 3
   },
   "file_extension": ".py",
   "mimetype": "text/x-python",
   "name": "python",
   "nbconvert_exporter": "python",
   "pygments_lexer": "ipython3",
   "version": "3.11.13"
  }
 },
 "nbformat": 4,
 "nbformat_minor": 5
}
